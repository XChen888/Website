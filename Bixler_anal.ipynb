{
 "cells": [
  {
   "cell_type": "code",
   "execution_count": 1,
   "id": "5dc60072",
   "metadata": {},
   "outputs": [],
   "source": [
    "import plots as acmu_plots\n",
    "import matplotlib.pyplot as plt\n",
    "import numpy as np\n",
    "import pandas as pd\n",
    "from tools import *\n",
    "%matplotlib qt"
   ]
  },
  {
   "cell_type": "code",
   "execution_count": 2,
   "id": "4e4cb490",
   "metadata": {},
   "outputs": [
    {
     "name": "stdout",
     "output_type": "stream",
     "text": [
      "          time_us  input_pwm  output_pwm  voltage_mV  current_mA  \\\n",
      "0         3896018       1504        1504        5015         383   \n",
      "1         3908018       1504        1504        5011         378   \n",
      "2         3915018       1503        1503        4976         377   \n",
      "3         3922018       1503        1503        4999         386   \n",
      "4         3929018       1503        1503        5001         390   \n",
      "...           ...        ...         ...         ...         ...   \n",
      "150252  757601019       1505        1505        4984         383   \n",
      "150253  757606019       1505        1505        4980         384   \n",
      "150254  757611019       1506        1506        4984         385   \n",
      "150255  757616019       1506        1506        4988         383   \n",
      "150256  757621019       1506        1506        4984         386   \n",
      "\n",
      "        internal_temperature  servo_pos  flap_root  flap_tip  air_temp  \\\n",
      "0                       1498       2054       2085      1800       768   \n",
      "1                       1498       2051       2085      1800       768   \n",
      "2                       1498       2052       2085      1800       768   \n",
      "3                       1498       2052       2085      1800       768   \n",
      "4                       1497       2053       2085      1800       768   \n",
      "...                      ...        ...        ...       ...       ...   \n",
      "150252                  1544       2057       2080      1807      1023   \n",
      "150253                  1542       2059       2081      1807      1023   \n",
      "150254                  1542       2059       2080      1807      1023   \n",
      "150255                  1540       2057       2080      1807      1023   \n",
      "150256                  1540       2058       2080      1807      1023   \n",
      "\n",
      "        Servo_temp  Unnamed: 11  \n",
      "0              768          NaN  \n",
      "1              768          NaN  \n",
      "2              768          NaN  \n",
      "3              768          NaN  \n",
      "4              768          NaN  \n",
      "...            ...          ...  \n",
      "150252        1023          NaN  \n",
      "150253        1023          NaN  \n",
      "150254        1023          NaN  \n",
      "150255        1023          NaN  \n",
      "150256        1023          NaN  \n",
      "\n",
      "[150257 rows x 12 columns]\n"
     ]
    }
   ],
   "source": [
    "#wing_left = \"/home/dteubl/repos/SEMA/ACMU/logs/bixler/04_13/acmuv1100/activitylog199.csv\"\n",
    "#wing_right = \"/home/dteubl/repos/SEMA/ACMU/logs/bixler/04_13/acmuv1101/activitylog175.csv\"\n",
    "#wing_left = \"/home/dteubl/repos/SEMA/ACMU/logs/bixler/04_28/acmuv1100/activitylog201.csv\"\n",
    "#wing_right = \"/home/dteubl/repos/SEMA/ACMU/logs/bixler/04_28/acmuv1101/activitylog177.csv\"\n",
    "wing_left = \"/home/dteubl/repos/SEMA/ACMU/logs/bixler/04_29/acmuv1100/activitylog205.csv\"\n",
    "wing_right = \"/home/dteubl/repos/SEMA/ACMU/logs/bixler/04_29/acmuv1101/activitylog183.csv\"\n",
    "header_size = 25\n",
    "temp = pd.read_csv(wing_left, sep=';', header=header_size)\n",
    "print(temp)"
   ]
  },
  {
   "cell_type": "code",
   "execution_count": 1,
   "id": "12e95948",
   "metadata": {},
   "outputs": [
    {
     "name": "stdout",
     "output_type": "stream",
     "text": [
      "Hello World\n"
     ]
    }
   ],
   "source": [
    "print(\"Hello World\")"
   ]
  },
  {
   "cell_type": "code",
   "execution_count": 3,
   "id": "5a2000cb",
   "metadata": {},
   "outputs": [
    {
     "name": "stdout",
     "output_type": "stream",
     "text": [
      "<plots.ACMU object at 0x7f405cbb36d0>\n",
      "<plots.ACMU object at 0x7f405cbb20e0>\n"
     ]
    }
   ],
   "source": [
    "\n",
    "\n",
    "data_left = acmu_plots.ACMU(wing_left,header_size)\n",
    "data_right = acmu_plots.ACMU(wing_right,header_size)\n",
    "\n",
    "def convert_raw_data_to_relative_angles(raw_data, offset):\n",
    "    return (360/2**12)*(raw_data - offset)\n",
    "\n",
    "def calc_offset_from_beginning(raw_data, window):\n",
    "    return (sum(raw_data[0:window])/window)\n",
    "\n",
    "\n",
    "print(data_left)\n",
    "print(data_right)"
   ]
  },
  {
   "cell_type": "code",
   "execution_count": null,
   "id": "d7fa5eac",
   "metadata": {},
   "outputs": [],
   "source": [
    "\n",
    "\n",
    "# blue 73 --  flap_a --- Innerside\n",
    "# red 65 --- flap-b -- outter size\n",
    "import plotly\n",
    "\n",
    "\n",
    "\n"
   ]
  },
  {
   "cell_type": "code",
   "execution_count": null,
   "id": "e3033821",
   "metadata": {},
   "outputs": [],
   "source": [
    "def moving_average(x, w):\n",
    "    return np.convolve(x, np.ones(w), 'valid') / w"
   ]
  },
  {
   "cell_type": "code",
   "execution_count": null,
   "id": "5fa70c8c",
   "metadata": {},
   "outputs": [],
   "source": [
    "# offset time\n",
    "\n",
    "t0 = data_left.time_us()[0]\n",
    "T = data_left.time_us() - data_left.time_us()[0]\n",
    "\n",
    "# get time as number of samples\n",
    "tn = np.arange(0,len(T))\n"
   ]
  },
  {
   "cell_type": "code",
   "execution_count": null,
   "id": "785ed26e",
   "metadata": {},
   "outputs": [],
   "source": [
    "servo_pos = \n",
    "flap_root = despike_vector(data_left.flap_root())\n",
    "flap_tip = despike_vector(data_left.flap_tip())\n",
    "\n",
    "\n"
   ]
  },
  {
   "cell_type": "code",
   "execution_count": null,
   "id": "eaa1551f",
   "metadata": {},
   "outputs": [],
   "source": [
    "\n",
    "servo_pos = despike_vector(data_left.servo_pos())\n",
    "flap_root = despike_vector(data_left.flap_root())\n",
    "flap_tip = despike_vector(data_left.flap_tip())"
   ]
  },
  {
   "cell_type": "code",
   "execution_count": null,
   "id": "dc891daf",
   "metadata": {},
   "outputs": [],
   "source": [
    "plt.figure()\n",
    "plt.plot(tn,data_left.servo_pos(),  label = 'data - dirty')\n",
    "# plt.plot(tn,servo_pos,  label = 'data - clean')\n",
    "plt.title(\"data clean with custom function\")\n",
    "plt.ylabel(\"amplitude\")\n",
    "plt.xlabel(\"sample\")\n",
    "plt.legend()\n",
    "plt.show()"
   ]
  },
  {
   "cell_type": "code",
   "execution_count": null,
   "id": "f3f227ea",
   "metadata": {},
   "outputs": [],
   "source": [
    "vecc = data_left.servo_pos()[39270:39310]\n",
    "print(vecc)\n",
    "vc2 = copy.deepcopy(vecc)\n",
    "\n",
    "print(vc2-vecc)"
   ]
  },
  {
   "cell_type": "code",
   "execution_count": null,
   "id": "79bf1264",
   "metadata": {},
   "outputs": [],
   "source": [
    "servo_pos_r = despike_vector(data_right.servo_pos()[:])\n",
    "flap_root_r = despike_vector(data_right.flap_root()[:])\n",
    "flap_tip_r = despike_vector(data_right.flap_tip()[:])\n",
    "nr =  np.arange(0,len(data_right.time_us()))\n",
    "\n",
    "vec = flap_tip_r[52250:52300]\n",
    "\n",
    "mi = 0\n",
    "ma = len(flap_tip_r)\n",
    "#mi = 52270\n",
    "#ma = 52280\n",
    "\n",
    "plt.figure()\n",
    "plt.plot(nr[mi:ma],data_right.servo_pos()[mi:ma],  label = 'data - dirty')\n",
    "plt.plot(nr[mi:ma],servo_pos_r[mi:ma],  label = 'data - clean')\n",
    "#plt.plot(nr[mi:ma], flap_tip_r[mi:ma]-data_right.flap_tip()[mi:ma], label= \"diff\")\n",
    "plt.title(\"data clean with custom function\")\n",
    "plt.ylabel(\"amplitude\")\n",
    "plt.xlabel(\"sample\")\n",
    "plt.grid(\"on\")\n",
    "plt.legend()\n",
    "plt.show()\n",
    "\n",
    "\n",
    "\n"
   ]
  },
  {
   "cell_type": "code",
   "execution_count": null,
   "id": "1d57d900",
   "metadata": {},
   "outputs": [],
   "source": [
    "### Close sample on real data...\n",
    "\n",
    "vec1 = data_right.flap_tip()[52270:52280]\n",
    "vec2 = despike_vector(vec1[:])\n",
    "tn = np.arange(0,len(vec2))\n",
    "\n",
    "plt.figure()\n",
    "plt.plot(tn,vec1,  label = 'dirty')\n",
    "plt.plot(tn,vec2,  label = 'clean')\n",
    "plt.title(\"data clean with custom function\")\n",
    "plt.ylabel(\"amplitude\")\n",
    "plt.xlabel(\"sample\")\n",
    "plt.legend()\n",
    "plt.show()\n",
    "print(vec1)"
   ]
  },
  {
   "cell_type": "code",
   "execution_count": null,
   "id": "2866b29a",
   "metadata": {},
   "outputs": [],
   "source": [
    "v = [12.23,  11.26,  10.21, -16.08,   8.45,   7.4,    7.13,   6.69,   6.25,   5.99]\n",
    "vec1 = np.array(v)\n",
    "d = abs(data_right.servo_pos()[0:-1] - data_right.servo_pos()[1:])\n",
    "print(d)\n",
    "tn = np.arange(0,len(d))\n",
    "plt.figure()\n",
    "plt.plot(tn,d,  label = 'dirty')\n",
    "plt.title(\"derivative of signal\")\n",
    "plt.ylabel(\"amplitude\")\n",
    "plt.xlabel(\"sample\")\n",
    "plt.legend()\n",
    "plt.show()\n"
   ]
  },
  {
   "cell_type": "code",
   "execution_count": null,
   "id": "18e01b6f",
   "metadata": {},
   "outputs": [],
   "source": [
    "### Close sample on real data...\n",
    "\n",
    "vec1 = [12.23,  11.26,  10.21, -16.08,   8.45,   7.4,    7.13,   6.69,   6.25,   5.99]\n",
    "d = vec1[0:-1]\n",
    "\n",
    "vec2 = despike_vector(vec1[:])\n",
    "tn = np.arange(0,len(vec2))\n",
    "\n",
    "plt.figure()\n",
    "plt.plot(tn,vec1,  label = 'dirty')\n",
    "plt.plot(tn,vec2,  label = 'clean')\n",
    "plt.title(\"data clean with custom function\")\n",
    "plt.ylabel(\"amplitude\")\n",
    "plt.xlabel(\"sample\")\n",
    "plt.legend()\n",
    "plt.show()"
   ]
  },
  {
   "cell_type": "code",
   "execution_count": 4,
   "id": "78f18576",
   "metadata": {},
   "outputs": [],
   "source": [
    "plt.figure()\n",
    "plt.plot(data_left.time_min(),data_left.servo_pos(),  label = 'Servo')\n",
    "plt.plot(data_left.time_min(),data_left.flap_tip(),  label = 'Outter side')\n",
    "plt.plot(data_left.time_min(),data_left.flap_root(), label = 'Inner side')\n",
    "plt.title(\"Aileron deflection measurement of HK-Bixler left wing\")\n",
    "plt.ylabel(\"Defelections [deg]\")\n",
    "plt.xlabel(\"sample\")\n",
    "plt.legend()\n",
    "plt.show()"
   ]
  },
  {
   "cell_type": "code",
   "execution_count": 5,
   "id": "624a1d77",
   "metadata": {},
   "outputs": [],
   "source": [
    "plt.figure()\n",
    "plt.plot(data_right.time_min(),data_right.servo_pos(),  label = 'Servo')\n",
    "plt.plot(data_right.time_min(),data_right.flap_tip(),  label = 'Outter side')\n",
    "plt.plot(data_right.time_min(),data_right.flap_root(), label = 'Inner side')\n",
    "plt.title(\"Aileron deflection measurement of HK-Bixler right wing\")\n",
    "plt.ylabel(\"Defelections [deg]\")\n",
    "plt.xlabel(\"Time [ms]\")\n",
    "plt.legend()\n",
    "plt.show()"
   ]
  },
  {
   "cell_type": "code",
   "execution_count": null,
   "id": "16b8476b",
   "metadata": {},
   "outputs": [],
   "source": [
    "plt.figure()\n",
    "\n",
    "pos = data_left.servo_pos()\n",
    "for i in np.arange(0,len(pos)):\n",
    "    if (abs(pos[i]) - abs(pos[i-1])) > 5.0:\n",
    "        pos[i] = pos[i-1]\n",
    "    \n",
    "\n",
    "ref_zero = -1*(data_left.ref()-1500)\n",
    "\n",
    "ref_max = max(abs(ref_zero))\n",
    "pos_max = max(abs(pos))\n",
    "\n",
    "ref = (ref_zero/ref_max)* pos_max\n",
    "pos = (pos/pos_max)* pos_max\n",
    "\n",
    "plt.plot(data_left.time_s(),ref,  label = 'pwm reference')\n",
    "plt.plot(data_left.time_s(),data_left.servo_pos(),  label = 'Servo')\n",
    "plt.plot(data_left.time_s(),data_left.flap_tip(),  label = 'Outter side')\n",
    "plt.plot(data_left.time_s(),data_left.flap_root(), label = 'Inner side')\n",
    "plt.title(\"Aileron deflection measurement of HK-Bixler left wing\")\n",
    "plt.show()\n",
    "plt.ylabel(\"Position [deg]\")\n",
    "plt.xlabel(\"Time [s]\")\n",
    "plt.legend()\n",
    "plt.show()\n",
    "\n"
   ]
  },
  {
   "cell_type": "code",
   "execution_count": null,
   "id": "4479f00e",
   "metadata": {},
   "outputs": [],
   "source": [
    "plt.figure()\n",
    "\n",
    "plt.plot(data_left.time_min(), data_left.voltage(), label = 'Input Voltage')\n",
    "plt.title(\"Input voltage ripple of HK-Bixler aileron\")\n",
    "plt.ylabel(\"Voltage [mV]\")\n",
    "plt.xlabel(\"Time [min]\")\n",
    "plt.legend()\n",
    "plt.show()\n"
   ]
  },
  {
   "cell_type": "code",
   "execution_count": null,
   "id": "ea43a135",
   "metadata": {},
   "outputs": [],
   "source": [
    "plt.figure()\n",
    "\n",
    "current = data_left.current() \n",
    "plt.plot(data_left.time_min(), current, label = 'consumed current')\n",
    "plt.title(\"Input voltage ripple of HK-Bixler aileron\")\n",
    "plt.ylabel(\"Current [mV]\")\n",
    "plt.xlabel(\"Time [min]\")\n",
    "plt.legend()\n",
    "plt.show()\n"
   ]
  },
  {
   "cell_type": "code",
   "execution_count": null,
   "id": "7df140e7",
   "metadata": {},
   "outputs": [],
   "source": [
    "def calc_resistor(measured_value):\n",
    "    Vin = 5\n",
    "    R2 = 2000\n",
    "    resistor = R2*Vin*( 1 - measured_value/Vin )/measured_value\n",
    "\n",
    "\n",
    "plt.figure()\n",
    "\n",
    "resistor = calc_resistor(data_left.air_temp())\n",
    "\n",
    "#plt.plot(data.time_s,resistor , label = 'ambient temperature')\n",
    "plt.plot(data_left.time_s(),data_left.servo_temp() , label = 'servot temperature')\n",
    "plt.plot(data_left.time_s(),data_left.air_temp() , label = 'air temperature')\n",
    "plt.title(\"temperature changes of HK-Bixler aileron\")\n",
    "plt.ylabel(\"temperature [raw]\")\n",
    "plt.xlabel(\"Time [s]\")\n",
    "plt.legend()\n",
    "plt.show()\n",
    "print(data_left.air_temp)"
   ]
  },
  {
   "cell_type": "code",
   "execution_count": null,
   "id": "260e1204",
   "metadata": {},
   "outputs": [],
   "source": [
    "# convert the data to degrees.\n",
    "max_res = 2**12\n",
    "degree_90 = (360/max_res)*1024\n",
    "print(degree_90)\n",
    "\n"
   ]
  },
  {
   "cell_type": "code",
   "execution_count": null,
   "id": "573ae3b2",
   "metadata": {},
   "outputs": [],
   "source": [
    "\n",
    "\n",
    "pos = data.servo_pos\n",
    "for i in np.arange(0,len(pos)):\n",
    "    if (abs(pos[i]) - abs(pos[i-1])) > 5.0:\n",
    "        pos[i] = pos[i-1]\n",
    "        \n",
    "        "
   ]
  },
  {
   "cell_type": "code",
   "execution_count": null,
   "id": "b28df233",
   "metadata": {},
   "outputs": [],
   "source": [
    "gain = 10/12\n",
    "print(gain)\n"
   ]
  },
  {
   "cell_type": "code",
   "execution_count": null,
   "id": "04766372",
   "metadata": {},
   "outputs": [],
   "source": [
    "def calc_resistor(measured_value):\n",
    "    Vin = 5000 # mV\n",
    "    R2 = 2000 # ohm\n",
    "    R = R2*(Vin -measured_value)/measured_value\n",
    "    return R\n",
    "\n",
    "def inv_calc(resistor):\n",
    "    Vin = 5000 # mV\n",
    "    R2 = 2000 # ohm\n",
    "    return  Vin * (R2/(resistor + R2))\n",
    "\n",
    "\n",
    "R = calc_resistor(733)\n",
    "print(R)\n",
    "print(inv_calc(11642))\n",
    "\n",
    "\n"
   ]
  },
  {
   "cell_type": "code",
   "execution_count": null,
   "id": "5b990010",
   "metadata": {},
   "outputs": [],
   "source": [
    "# temperature table\n",
    "\n",
    "NTC_R = [32554, 25339, 19872, 15872, 12488, 10000, 8059, 6535, 5330, 4372, 3605, 2989, 2490, 2084, 1753, 1481, 1256,1070, 915,786, 677]    \n",
    "NTC_T = np.arange(0,105,5)\n",
    "\n",
    "plt.figure()\n",
    "\n",
    "plt.plot(NTC_T, NTC_R, label = 'Resistor')\n",
    "plt.title(\"NTC characteristic\")\n",
    "plt.ylabel(\"Resistance [Ohm]\")\n",
    "plt.xlabel(\"Temperature [Celsius]\")\n",
    "plt.legend()\n",
    "plt.show()\n",
    "\n",
    "\n"
   ]
  },
  {
   "cell_type": "code",
   "execution_count": null,
   "id": "961d6f1e",
   "metadata": {},
   "outputs": [],
   "source": [
    "air_t = data.air_temp\n",
    "\n",
    "#for i in np.arange(0,len(air_t)):\n",
    "r = (calc_resistor(air_t[1000]))\n",
    "\n",
    "idxs = NTC_R<=r\n",
    "print(idxs)\n",
    "print(np.array(NTC_R)[~np.array(idxs)][-1])\n",
    "print(r)\n",
    "val  = np.array(NTC_R)[idxs][0]\n",
    "print(val)\n",
    "idx = NTC_R>=val\n",
    "print(idx)\n",
    "arr = np.array(NTC_R)[idx][-2:]\n",
    "print(arr)\n",
    "\n",
    "def find_boundarie_for_interpolation(vec, point):\n",
    "    arr = []\n",
    "    idx = vec<=point\n",
    "    arr.append(np.array(vec)[idx][0])\n",
    "    arr.append(np.array(NTC_R)[~np.array(idx)][-1])\n",
    "    return arr\n",
    "\n",
    "print(find_boundarie_for_interpolation(NTC_R, r))\n"
   ]
  },
  {
   "cell_type": "code",
   "execution_count": null,
   "id": "73a6bdae",
   "metadata": {},
   "outputs": [],
   "source": [
    "N = 1000\n",
    "Nominal = 8000\n",
    "\n",
    "print(Nominal-sum(data.voltage[N:N+N])/N)\n"
   ]
  }
 ],
 "metadata": {
  "kernelspec": {
   "display_name": "Python 3 (ipykernel)",
   "language": "python",
   "name": "python3"
  },
  "language_info": {
   "codemirror_mode": {
    "name": "ipython",
    "version": 3
   },
   "file_extension": ".py",
   "mimetype": "text/x-python",
   "name": "python",
   "nbconvert_exporter": "python",
   "pygments_lexer": "ipython3",
   "version": "3.9.7"
  }
 },
 "nbformat": 4,
 "nbformat_minor": 5
}
